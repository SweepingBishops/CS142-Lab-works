{
  "cells": [
    {
      "cell_type": "markdown",
      "metadata": {
        "colab_type": "text",
        "id": "view-in-github"
      },
      "source": [
        "<a href=\"https://colab.research.google.com/github/Methaphur/CS142-Lab-works-/blob/main/CS142_Week_1.ipynb\" target=\"_parent\"><img src=\"https://colab.research.google.com/assets/colab-badge.svg\" alt=\"Open In Colab\"/></a>"
      ]
    },
    {
      "cell_type": "markdown",
      "metadata": {
        "id": "OGPSkTWF4dRU"
      },
      "source": [
        "##Revision class - Recursion"
      ]
    },
    {
      "cell_type": "code",
      "execution_count": null,
      "metadata": {
        "colab": {
          "base_uri": "https://localhost:8080/"
        },
        "id": "0w-QRoxwxPm5",
        "outputId": "a7165c1e-64f1-4072-d96b-743cb0839544"
      },
      "outputs": [
        {
          "name": "stdout",
          "output_type": "stream",
          "text": [
            "120\n"
          ]
        }
      ],
      "source": [
        "#Factorial function\n",
        "def factorial(n):\n",
        "  if n == 1:\n",
        "    return n\n",
        "  return n*factorial(n-1)\n",
        "\n",
        "print(factorial())"
      ]
    },
    {
      "cell_type": "code",
      "execution_count": null,
      "metadata": {
        "colab": {
          "base_uri": "https://localhost:8080/"
        },
        "id": "0IQLzD2AxoS8",
        "outputId": "91010fde-2af6-4493-e064-690cc3f8a1ba"
      },
      "outputs": [
        {
          "name": "stdout",
          "output_type": "stream",
          "text": [
            "8\n"
          ]
        }
      ],
      "source": [
        "#nth fibonnaci number\n",
        "\n",
        "def fibon(n):\n",
        "  if n < 3: \n",
        "    return 1\n",
        "  return fibon(n-1)+fibon(n-2)\n",
        "\n",
        "print(fibon(6))\n",
        "\n",
        "#First 10 fibonacci numbers\n",
        "#for i in range(1,11):\n",
        "#  print(fibon(i), end = \" \")"
      ]
    },
    {
      "cell_type": "code",
      "execution_count": null,
      "metadata": {
        "colab": {
          "base_uri": "https://localhost:8080/"
        },
        "id": "XVKaCpwk24XE",
        "outputId": "3860287f-c308-4430-dfb8-09ca2aba53a1"
      },
      "outputs": [
        {
          "data": {
            "text/plain": [
              "12586269025"
            ]
          },
          "execution_count": 131,
          "metadata": {},
          "output_type": "execute_result"
        }
      ],
      "source": [
        "#Testing for 50th fibonnaci number using for loop\n",
        "fibon = [1,1]\n",
        "for i in range(2,50):\n",
        "  fibon.append(fibon[i-1]+fibon[i-2])\n",
        "fibon[-1]"
      ]
    },
    {
      "cell_type": "markdown",
      "metadata": {
        "id": "LH2Dl8x449I4"
      },
      "source": [
        "## Storing Data while computing \n",
        "While calculating the 50th fibonnaci number , we use f(50) = f(49) + f(48) but when calculating f(49) we are already calculating f(48) which means  unnecessary computation. Herer we are storing the values of f(48) when we calculate it and use it for f(49). "
      ]
    },
    {
      "cell_type": "code",
      "execution_count": null,
      "metadata": {
        "colab": {
          "base_uri": "https://localhost:8080/"
        },
        "id": "rSXLc6y24MzN",
        "outputId": "9c43b401-397b-4e52-8b92-ac2b2b5595c0"
      },
      "outputs": [
        {
          "data": {
            "text/plain": [
              "12586269025"
            ]
          },
          "execution_count": 65,
          "metadata": {},
          "output_type": "execute_result"
        }
      ],
      "source": [
        "#Finding the 50th fibonnaci number usin recursion but previously calculated values are stored \n",
        "def fibon(n,x=[1,1]):\n",
        "  # Checks if we have calculated the nth element yet \n",
        "  if n <= len(x):\n",
        "  # Returning the nth element if yes \n",
        "    return x[n-1]\n",
        "  \n",
        "  #calculating the nth element using recursion and saving the data \n",
        "  a = (fibon(n-1)+fibon(n-2))\n",
        "  x.append(a)\n",
        "  return a\n",
        "fibon(50)"
      ]
    },
    {
      "cell_type": "code",
      "execution_count": null,
      "metadata": {
        "colab": {
          "base_uri": "https://localhost:8080/"
        },
        "id": "Um9ghLmQ6z62",
        "outputId": "92ad2706-f829-4e31-9ba1-96ef65ee1456"
      },
      "outputs": [
        {
          "name": "stdout",
          "output_type": "stream",
          "text": [
            "12586269025\n"
          ]
        }
      ],
      "source": [
        "# Initialising a list with thousand elements all zeroes \n",
        "x = [0]*1000\n",
        "#Initialising the starting condition with first 2 elements 1 \n",
        "x[0] = x[1] = 1\n",
        "\n",
        "def fibon(n):  \n",
        "  # If the nth element is not zero , it is already calculated and this value is returned\n",
        "  if x[n-1] !=  0:\n",
        "    return x[n-1] \n",
        "  \n",
        "  else:\n",
        "    #if not nth value is calculated using recursion\n",
        "    a = fibon(n-1)+fibon(n-2)\n",
        "    #Returning calculated value to the nth element in the list\n",
        "    x[n-1] = a\n",
        "    return a\n",
        "\n",
        "print(fibon(50))\n"
      ]
    },
    {
      "cell_type": "markdown",
      "metadata": {
        "id": "g72XlSmG56pC"
      },
      "source": [
        "## Calculating C<sup>m</sup> with only log<sub>m</sub> number of mutliplication operations  "
      ]
    },
    {
      "cell_type": "code",
      "execution_count": null,
      "metadata": {
        "colab": {
          "base_uri": "https://localhost:8080/"
        },
        "id": "FW2IZmhfEHAo",
        "outputId": "f1079c51-9e84-498d-d871-36ad4e800c91"
      },
      "outputs": [
        {
          "data": {
            "text/plain": [
              "4294967296"
            ]
          },
          "execution_count": 1,
          "metadata": {},
          "output_type": "execute_result"
        }
      ],
      "source": [
        "def expo(m,n):\n",
        "  if n == 0:\n",
        "    return 1\n",
        "  if  n < 0:\n",
        "    return 1/expo(m,-n)\n",
        "  if n%2 == 0:\n",
        "    a = expo(m,n/2)\n",
        "    return a**2\n",
        "  else:\n",
        "    b = expo(m,(n-1)/2)\n",
        "    return m*(b**2)\n",
        "\n",
        "expo(2,32)"
      ]
    }
  ],
  "metadata": {
    "colab": {
      "authorship_tag": "ABX9TyPmxm/EpSR0r2BpIdU5FfPn",
      "include_colab_link": true,
      "provenance": []
    },
    "kernelspec": {
      "display_name": "Python 3",
      "name": "python3"
    },
    "language_info": {
      "name": "python"
    }
  },
  "nbformat": 4,
  "nbformat_minor": 0
}
